{
 "cells": [
  {
   "cell_type": "code",
   "execution_count": null,
   "metadata": {},
   "outputs": [],
   "source": [
    "class Estudante:\n",
    "    escola = \"DIO\"\n",
    "\n",
    "    def __init__(self, nome, matricula):\n",
    "        self.nome = nome\n",
    "        self.matricula = matricula\n",
    "\n",
    "    def __str__(self) -> str:\n",
    "        return f\"{self.nome} - {self.matricula} - {self.escola}\"\n",
    "\n",
    "\n",
    "def mostrar_valores(*objs):\n",
    "    for obj in objs:\n",
    "        print(obj)\n",
    "\n",
    "\n",
    "aluno_1 = Estudante(\"Guilherme\", 1)\n",
    "aluno_2 = Estudante(\"Giovanna\", 2)\n",
    "mostrar_valores(aluno_1, aluno_2)\n",
    "\n",
    "Estudante.escola = \"Python\"\n",
    "aluno_3 = Estudante(\"Chappie\", 3)\n",
    "mostrar_valores(aluno_1, aluno_2, aluno_3)"
   ]
  }
 ],
 "metadata": {
  "language_info": {
   "name": "python"
  },
  "orig_nbformat": 4
 },
 "nbformat": 4,
 "nbformat_minor": 2
}
