{
 "cells": [
  {
   "cell_type": "code",
   "execution_count": 26,
   "metadata": {},
   "outputs": [
    {
     "name": "stdout",
     "output_type": "stream",
     "text": [
      "Motocicleta: cor=Azul, placa=abc-1234, numero_rodas=2\n",
      "Ligando motor...\n",
      "Carro: cor=Branco, placa=xpz-5478, numero_rodas=4\n",
      "Caminhao: cor=Roxo, placa=dfg-5872, numero_rodas=8, carregado=False\n",
      "Não está carregado\n"
     ]
    },
    {
     "data": {
      "text/plain": [
       "'\\n\\nQuando estava colocando o método .estar_carregado() dentro de print() estava aparecendo None, ao pesquisar achei a seguinte explicação:\\n\\nUma função Python sempre terá um valor de retorno.\\nPortanto, se você não usar explicitamente um valor de retorno em uma instrução de retorno, ou se omitir \\ntotalmente a palavra chave return, o Python retornará implicitamente um valor padrão para você.\\nEsse valor de retorno padrão é None.\\nhttps://realpython.com/python-return-statement/#implicit-return-statements\\n'"
      ]
     },
     "execution_count": 26,
     "metadata": {},
     "output_type": "execute_result"
    }
   ],
   "source": [
    "#Herança simples\n",
    "\n",
    "class Veiculo:\n",
    "    def __init__(self, cor, placa, numero_rodas):\n",
    "        self.cor = cor\n",
    "        self.placa = placa\n",
    "        self.numero_rodas = numero_rodas\n",
    "\n",
    "    def __str__(self):\n",
    "        return f\"{self.__class__.__name__}: {', '.join([f'{chave}={valor}' for chave,valor in self.__dict__.items()])}\"\n",
    "\n",
    "    def ligar_mortor(self):\n",
    "        print(\"Ligando motor...\")\n",
    "\n",
    "class Motocicleta(Veiculo):\n",
    "    pass\n",
    "\n",
    "\n",
    "class Carro(Veiculo):\n",
    "    pass\n",
    "\n",
    "\n",
    "class Caminhao(Veiculo):\n",
    "    def __init__(self, cor, placa, numero_rodas, carregado = False):\n",
    "        super().__init__(cor, placa, numero_rodas)\n",
    "        self.carregado = carregado\n",
    "\n",
    "    def esta_carregado(self):\n",
    "        print(f\"{'Sim' if self.carregado else 'Não'} está carregado\")\n",
    "\n",
    "moto = Motocicleta(\"Azul\", \"abc-1234\", 2)\n",
    "print(moto)\n",
    "moto.ligar_mortor()\n",
    "\n",
    "carro = Carro(\"Branco\", \"xpz-5478\", 4)\n",
    "\n",
    "print(carro)\n",
    "\n",
    "caminhao = Caminhao(\"Roxo\", \"dfg-5872\", 8)\n",
    "print(caminhao)\n",
    "caminhao.esta_carregado()\n",
    "\n",
    "\"\"\"\n",
    "\n",
    "Quando estava colocando o método .estar_carregado() dentro de print() estava aparecendo None, ao pesquisar achei a seguinte explicação:\n",
    "\n",
    "Uma função Python sempre terá um valor de retorno.\n",
    "Portanto, se você não usar explicitamente um valor de retorno em uma instrução de retorno, ou se omitir \n",
    "totalmente a palavra chave return, o Python retornará implicitamente um valor padrão para você.\n",
    "Esse valor de retorno padrão é None.\n",
    "https://realpython.com/python-return-statement/#implicit-return-statements\n",
    "\"\"\""
   ]
  },
  {
   "cell_type": "code",
   "execution_count": 31,
   "metadata": {},
   "outputs": [
    {
     "name": "stdout",
     "output_type": "stream",
     "text": [
      "Gato: cor_pelo=Preto, nro_patas=4\n",
      "(<class '__main__.Ornitorrinco'>, <class '__main__.Mamifero'>, <class '__main__.Ave'>, <class '__main__.Animal'>, <class 'object'>)\n",
      "[<class '__main__.Ornitorrinco'>, <class '__main__.Mamifero'>, <class '__main__.Ave'>, <class '__main__.Animal'>, <class 'object'>]\n",
      "Ornitorrinco: cor_pelo=vermelho, cor_bico=laranja, nro_patas=2\n"
     ]
    }
   ],
   "source": [
    "#Herança Multipla\n",
    "\n",
    "class Animal:\n",
    "    def __init__(self, nro_patas):\n",
    "        self.nro_patas = nro_patas\n",
    "\n",
    "    def __str__(self):\n",
    "        return f\"{self.__class__.__name__}: {', '.join([f'{chave}={valor}' for chave, valor in self.__dict__.items()])}\"\n",
    "\n",
    "\n",
    "class Mamifero(Animal):\n",
    "    def __init__(self, cor_pelo, **kw):\n",
    "        self.cor_pelo = cor_pelo\n",
    "        super().__init__(**kw)\n",
    "\n",
    "\n",
    "class Ave(Animal):\n",
    "    def __init__(self, cor_bico, **kw):\n",
    "        self.cor_bico = cor_bico\n",
    "        super().__init__(**kw)\n",
    "\n",
    "\n",
    "class Gato(Mamifero):\n",
    "    pass\n",
    "\n",
    "\n",
    "class Ornitorrinco(Mamifero, Ave):\n",
    "    def __init__(self, cor_bico, cor_pelo, nro_patas):\n",
    "        #Identificar a ordem de execução das classes:\n",
    "        print(Ornitorrinco.__mro__) #Retorna como uma tupla\n",
    "        print(Ornitorrinco.mro()) #Retorna como uma lista\n",
    "        super().__init__(cor_pelo=cor_pelo, cor_bico=cor_bico, nro_patas=nro_patas)\n",
    "\n",
    "\n",
    "gato = Gato(nro_patas=4, cor_pelo=\"Preto\")\n",
    "print(gato)\n",
    "\n",
    "\n",
    "\n",
    "ornitorrinco = Ornitorrinco(nro_patas=2, cor_pelo=\"vermelho\", cor_bico=\"laranja\")\n",
    "print(ornitorrinco)"
   ]
  },
  {
   "cell_type": "markdown",
   "metadata": {},
   "source": [
    "Putting *args and/or **kwargs as the last items in your function definition’s argument list allows that function to accept an arbitrary number of arguments and/or keyword arguments.\n",
    "\n",
    "For example, if you wanted to write a function that returned the sum of all its arguments, no matter how many you supply, you could write it like this:\n",
    "\n",
    "def my_sum(*args):\n",
    "    return sum(args)\n",
    "It’s probably more commonly used in object-oriented programming, when you’re overriding a function, and want to call the original function with whatever arguments the user passes in.\n",
    "\n",
    "You don’t actually have to call them args and kwargs, that’s just a convention. It’s the * and ** that do the magic.\n",
    "\n",
    "The official Python documentation has a more in-depth look (https://docs.python.org/2/tutorial/controlflow.html#more-on-defining-functions).\n",
    "\n",
    "From https://stackoverflow.com/questions/287085/what-do-args-and-kwargs-mean."
   ]
  },
  {
   "cell_type": "code",
   "execution_count": 32,
   "metadata": {},
   "outputs": [
    {
     "name": "stdout",
     "output_type": "stream",
     "text": [
      "bar\n"
     ]
    }
   ],
   "source": [
    "class Foo:\n",
    "    def hello(self):\n",
    "        print(self.__class__.__name__.lower())\n",
    "\n",
    "\n",
    "class Bar(Foo):\n",
    "    def hello(self):\n",
    "        return super().hello()\n",
    "\n",
    "\n",
    "bar = Bar()\n",
    "bar.hello()"
   ]
  }
 ],
 "metadata": {
  "kernelspec": {
   "display_name": "Python 3",
   "language": "python",
   "name": "python3"
  },
  "language_info": {
   "codemirror_mode": {
    "name": "ipython",
    "version": 3
   },
   "file_extension": ".py",
   "mimetype": "text/x-python",
   "name": "python",
   "nbconvert_exporter": "python",
   "pygments_lexer": "ipython3",
   "version": "3.10.7 (tags/v3.10.7:6cc6b13, Sep  5 2022, 14:08:36) [MSC v.1933 64 bit (AMD64)]"
  },
  "orig_nbformat": 4,
  "vscode": {
   "interpreter": {
    "hash": "909775f4c1c1337c10dd26386ad7fdd8e68c24cfe611dcacc1a198b9e09c3e1f"
   }
  }
 },
 "nbformat": 4,
 "nbformat_minor": 2
}
