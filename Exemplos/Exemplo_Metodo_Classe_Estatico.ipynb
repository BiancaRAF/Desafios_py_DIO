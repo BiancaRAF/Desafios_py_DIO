{
 "cells": [
  {
   "cell_type": "code",
   "execution_count": null,
   "metadata": {},
   "outputs": [],
   "source": [
    "class Pessoa:\n",
    "    def __init__(self, nome, idade):\n",
    "        self.nome = nome\n",
    "        self.idade = idade\n",
    "\n",
    "    @classmethod\n",
    "    def criar_de_data_nascimento(cls, ano, mes, dia, nome):\n",
    "        idade = 2022 - ano\n",
    "        return cls(nome, idade)\n",
    "        #cls é a variável de instanciação convencionada para método de classe, no lugar de self\n",
    "\n",
    "    @staticmethod\n",
    "    def e_maior_idade(idade):\n",
    "        return idade >= 18\n",
    "\n",
    "\n",
    "p = Pessoa.criar_de_data_nascimento(1994, 3, 21, \"Guilherme\")\n",
    "\n",
    "p1 = Pessoa(\"Bianca\", 26)\n",
    "\n",
    "#p2 = Pessoa(\"Carlos\", 32).criar_de_data_nascimento(\"Ana\", 20)\n",
    "\n",
    "print(p.nome, p.idade)\n",
    "\n",
    "print(Pessoa.e_maior_idade(18))\n",
    "print(Pessoa.e_maior_idade(8))"
   ]
  }
 ],
 "metadata": {
  "kernelspec": {
   "display_name": "Python 3",
   "language": "python",
   "name": "python3"
  },
  "language_info": {
   "name": "python",
   "version": "3.10.7 (tags/v3.10.7:6cc6b13, Sep  5 2022, 14:08:36) [MSC v.1933 64 bit (AMD64)]"
  },
  "orig_nbformat": 4,
  "vscode": {
   "interpreter": {
    "hash": "909775f4c1c1337c10dd26386ad7fdd8e68c24cfe611dcacc1a198b9e09c3e1f"
   }
  }
 },
 "nbformat": 4,
 "nbformat_minor": 2
}
