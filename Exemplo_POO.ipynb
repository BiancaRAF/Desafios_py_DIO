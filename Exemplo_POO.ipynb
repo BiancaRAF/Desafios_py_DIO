{
 "cells": [
  {
   "cell_type": "code",
   "execution_count": 25,
   "metadata": {},
   "outputs": [
    {
     "name": "stdout",
     "output_type": "stream",
     "text": [
      "Bicicleta: cor = amarela, modelo = monark, ano = 2022, valor = 1000, marcha = 1\n",
      "Plim plim...\n",
      "Vrummmm...\n",
      "Parando bicicleta...\n",
      "Bicicleta parada\n",
      "Olá mundo!\n",
      "Destruindo a instância!\n",
      "Olá mundo!\n",
      "Olá mundo!\n",
      "Olá mundo!\n",
      "Trocando a marcha...\n",
      "Marcha trocada\n",
      "None\n"
     ]
    }
   ],
   "source": [
    "class Bicicleta:\n",
    "    def __init__(self,cor,modelo,ano,valor, marcha = 1):\n",
    "        self.cor = cor\n",
    "        self.modelo = modelo\n",
    "        self.ano = ano\n",
    "        self.valor = valor\n",
    "        self.marcha = marcha\n",
    "    #Construtor __init__ - é o inicializador, isto é, o construtor\n",
    "    #self é uma referência explícita para o objeto - então, esse self é a instância do objeto - é comum chamar de self, mas poderia ser outro nome\n",
    "    #Métodos são funções dentro da classe; em python possui um primeiro argumento que por convenção se chama self\n",
    "    def buzinar(self):\n",
    "        print('Plim plim...')\n",
    "\n",
    "    def parar(self):\n",
    "        print(\"Parando bicicleta...\")\n",
    "        print(\"Bicicleta parada\")\n",
    "    \n",
    "    def correr(self):\n",
    "        print(\"Vrummmm...\")\n",
    "\n",
    "    def trocar_marcha(self, nro_marcha):\n",
    "        print(\"Trocando a marcha...\")\n",
    "        if nro_marcha > self.marcha or nro_marcha <= 0:\n",
    "            print(\"Trocar marcha indisponível!\")\n",
    "        else:\n",
    "            print(\"Marcha trocada\")\n",
    "\n",
    "    def __str__(self):\n",
    "        return f\"{self.__class__.__name__}: {', '.join([f'{chave} = {valor}' for chave, valor in self.__dict__.items()])}\"\n",
    "\n",
    "    def __del__(self):\n",
    "        print(\"Destruindo a instância!\")\n",
    "    \n",
    "    #__str__ é um método especial, só é orientado a mexer nele quando se sabe o que está fazendo\n",
    "    #Nesse caso se não \"configurar\" o str ele retornará apenas a informação que é um objeto (junto com o nome da classe) e o endereço do objeto - exemplo <__main__.Bicicleta object at 0x000001B8971814E0>\n",
    "\n",
    "\n",
    "b1 = Bicicleta(\"amarela\", \"monark\", \"2022\", 1000)\n",
    "print(b1)\n",
    "b1.buzinar()\n",
    "b1.correr()\n",
    "b1.parar()\n",
    "\n",
    "print(\"Olá mundo!\")\n",
    "del b1 #Usado para destruir um objeto antes que a execução termine!\n",
    "print(\"Olá mundo!\")\n",
    "print(\"Olá mundo!\")\n",
    "print(\"Olá mundo!\")\n",
    "\n",
    "b2 = Bicicleta(\"verde\", \"caloi\", \"2005\", 300, 5)\n",
    "\n",
    "print(b2.trocar_marcha(1))"
   ]
  },
  {
   "cell_type": "code",
   "execution_count": 13,
   "metadata": {},
   "outputs": [
    {
     "data": {
      "text/plain": [
       "dict_items([('guilherme@gmail.com', {'nome': 'Guilherme', 'telefone': '3333-2221'}), ('bianca@hotmail.com', {'nome': 'Bianca', 'telefone': '3333-5555'})])"
      ]
     },
     "execution_count": 13,
     "metadata": {},
     "output_type": "execute_result"
    }
   ],
   "source": [
    "contatos = {\"guilherme@gmail.com\": {\"nome\": \"Guilherme\",\"telefone\": \"3333-2221\"},\n",
    "            \"bianca@hotmail.com\" : {\"nome\": \"Bianca\",\"telefone\": \"3333-5555\"}}\n",
    "contatos.items() \n",
    "\n",
    "#items retorna do dicionário uma lista com tuplas"
   ]
  },
  {
   "cell_type": "code",
   "execution_count": null,
   "metadata": {},
   "outputs": [],
   "source": []
  }
 ],
 "metadata": {
  "kernelspec": {
   "display_name": "Python 3",
   "language": "python",
   "name": "python3"
  },
  "language_info": {
   "codemirror_mode": {
    "name": "ipython",
    "version": 3
   },
   "file_extension": ".py",
   "mimetype": "text/x-python",
   "name": "python",
   "nbconvert_exporter": "python",
   "pygments_lexer": "ipython3",
   "version": "3.10.7 (tags/v3.10.7:6cc6b13, Sep  5 2022, 14:08:36) [MSC v.1933 64 bit (AMD64)]"
  },
  "orig_nbformat": 4,
  "vscode": {
   "interpreter": {
    "hash": "909775f4c1c1337c10dd26386ad7fdd8e68c24cfe611dcacc1a198b9e09c3e1f"
   }
  }
 },
 "nbformat": 4,
 "nbformat_minor": 2
}
