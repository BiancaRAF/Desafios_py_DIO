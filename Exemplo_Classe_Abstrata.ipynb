{
 "cells": [
  {
   "cell_type": "code",
   "execution_count": null,
   "metadata": {},
   "outputs": [],
   "source": [
    "from abc import ABC, abstractmethod, abstractproperty\n",
    "\n",
    "#A classe abstrata não pode ser instanciada\n",
    "\n",
    "#Em python como há o conceito de multipla herança, não há uma palavra chave reservada para criar interfaces como acontece \n",
    "# em Java que por não haver multipla herança não dá para extender uma classe de mais de uma classe abstrata e, por isso,\n",
    "#  há uma palavra reservada para sinalizar essa necessidade\n",
    "\n",
    "class ControleRemoto(ABC):\n",
    "    @abstractmethod\n",
    "    def ligar(self):\n",
    "        pass\n",
    "\n",
    "    @abstractmethod\n",
    "    def desligar(self):\n",
    "        pass\n",
    "\n",
    "    @property\n",
    "    @abstractproperty\n",
    "    def marca(self):\n",
    "        pass\n",
    "\n",
    "\n",
    "class ControleTV(ControleRemoto):\n",
    "    def ligar(self):\n",
    "        print(\"Ligando a TV...\")\n",
    "        print(\"Ligada!\")\n",
    "\n",
    "    def desligar(self):\n",
    "        print(\"Desligando a TV...\")\n",
    "        print(\"Desligada!\")\n",
    "\n",
    "    @property\n",
    "    def marca(self):\n",
    "        return \"Philco\"\n",
    "\n",
    "\n",
    "class ControleArCondicionado(ControleRemoto):\n",
    "    def ligar(self):\n",
    "        print(\"Ligando o Ar Condicionado...\")\n",
    "        print(\"Ligado!\")\n",
    "\n",
    "    def desligar(self):\n",
    "        print(\"Desligando o Ar Condicionado...\")\n",
    "        print(\"Desligado!\")\n",
    "\n",
    "    @property\n",
    "    def marca(self):\n",
    "        return \"LG\"\n",
    "\n",
    "\n",
    "controle = ControleTV()\n",
    "controle.ligar()\n",
    "controle.desligar()\n",
    "print(controle.marca)\n",
    "\n",
    "\n",
    "controle = ControleArCondicionado()\n",
    "controle.ligar()\n",
    "controle.desligar()\n",
    "print(controle.marca)"
   ]
  }
 ],
 "metadata": {
  "kernelspec": {
   "display_name": "Python 3",
   "language": "python",
   "name": "python3"
  },
  "language_info": {
   "name": "python",
   "version": "3.10.7 (tags/v3.10.7:6cc6b13, Sep  5 2022, 14:08:36) [MSC v.1933 64 bit (AMD64)]"
  },
  "orig_nbformat": 4,
  "vscode": {
   "interpreter": {
    "hash": "909775f4c1c1337c10dd26386ad7fdd8e68c24cfe611dcacc1a198b9e09c3e1f"
   }
  }
 },
 "nbformat": 4,
 "nbformat_minor": 2
}
