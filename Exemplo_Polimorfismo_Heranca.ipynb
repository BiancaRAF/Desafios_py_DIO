{
 "cells": [
  {
   "cell_type": "code",
   "execution_count": null,
   "metadata": {},
   "outputs": [],
   "source": [
    "#Só há polimorfismo com herança!\n",
    "\n",
    "class Passaro:\n",
    "    def voar(self):\n",
    "        print(\"Voando...\")\n",
    "\n",
    "\n",
    "class Pardal(Passaro):\n",
    "    def voar(self):\n",
    "        super().voar()\n",
    "#Retirei o return, pois o método original não tem return\n",
    "\n",
    "\n",
    "class Avestruz(Passaro):\n",
    "    def voar(self):\n",
    "        print(\"Avestruz não pode voar\")\n",
    "\n",
    "\n",
    "# NOTE: exemplo ruim do uso de herança para \"ganhar\" o método voar\n",
    "class Aviao(Passaro):\n",
    "    def voar(self):\n",
    "        print(\"Avião está decolando...\")\n",
    "\n",
    "\n",
    "def plano_voo(obj):\n",
    "    obj.voar()\n",
    "\n",
    "\n",
    "plano_voo(Pardal())\n",
    "plano_voo(Avestruz())\n",
    "plano_voo(Aviao())"
   ]
  }
 ],
 "metadata": {
  "language_info": {
   "name": "python"
  },
  "orig_nbformat": 4
 },
 "nbformat": 4,
 "nbformat_minor": 2
}
