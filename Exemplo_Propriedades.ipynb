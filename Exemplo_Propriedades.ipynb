{
 "cells": [
  {
   "cell_type": "code",
   "execution_count": 1,
   "metadata": {},
   "outputs": [
    {
     "name": "stdout",
     "output_type": "stream",
     "text": [
      "10\n",
      "0\n",
      "10\n"
     ]
    },
    {
     "data": {
      "text/plain": [
       "'\\nProperie transforma o método em uma propriedade, assim você acessa o método como se fosse um atributo!\\nNo exemplo, se não usarmos o @property o print(foo.x) retornará o endereço e não o return do método, isto é, e não o comportamente programado\\n\\n#No caso do @x.setter nós o usamos, pois se queremos modificar o valor da property que criamos não conseguimos fazer \\ndiretamente se essa propriedade não for programa, pois apesar de funcionar como uma variável não é uma!\\n    Inclusive para configurar o @x.setter não tem return, pois não é um método, apesar de parecido é uma PROPRIEDADE\\n\\n#No caso do @x.deleter caso o comportamento seja ou de deletar da memória (usando o del) ou qualquer outro comportamento\\nassociado a essa propriedade como, por exemplo, colocar o valor de _x como 0 será necessário programar esse comportamento!\\n'"
      ]
     },
     "execution_count": 1,
     "metadata": {},
     "output_type": "execute_result"
    }
   ],
   "source": [
    "#Property são ATRIBUTOS GERENCIADOS em python!\n",
    "\n",
    "\n",
    "class Foo:\n",
    "    def __init__(self, x=None):\n",
    "        self._x = x\n",
    "\n",
    "    @property\n",
    "    def x(self):\n",
    "        return self._x or 0\n",
    "\n",
    "    @x.setter\n",
    "    def x(self, value):\n",
    "        self._x += value\n",
    "\n",
    "    @x.deleter\n",
    "    def x(self):\n",
    "        self._x = 0\n",
    "\n",
    "\n",
    "foo = Foo(10)\n",
    "print(foo.x)\n",
    "del foo.x\n",
    "print(foo.x)\n",
    "foo.x = 10\n",
    "print(foo.x)\n",
    "\n",
    "\"\"\"\n",
    "Properie transforma o método em uma propriedade, assim você acessa o método como se fosse um atributo!\n",
    "No exemplo, se não usarmos o @property o print(foo.x) retornará o endereço e não o return do método, isto é, e não o comportamente programado\n",
    "\n",
    "#No caso do @x.setter nós o usamos, pois se queremos modificar o valor da property que criamos não conseguimos fazer \n",
    "diretamente se essa propriedade não for programa, pois apesar de funcionar como uma variável não é uma!\n",
    "    Inclusive para configurar o @x.setter não tem return, pois não é um método, apesar de parecido é uma PROPRIEDADE\n",
    "\n",
    "#No caso do @x.deleter caso o comportamento seja ou de deletar da memória (usando o del) ou qualquer outro comportamento\n",
    "associado a essa propriedade como, por exemplo, colocar o valor de _x como 0 será necessário programar esse comportamento!\n",
    "\"\"\""
   ]
  },
  {
   "cell_type": "code",
   "execution_count": 4,
   "metadata": {},
   "outputs": [
    {
     "name": "stdout",
     "output_type": "stream",
     "text": [
      "Nome: Guilherme \tIdade: 28\n"
     ]
    }
   ],
   "source": [
    "class Pessoa:\n",
    "    def __init__(self, nome, ano_nascimento):\n",
    "        self.nome = nome\n",
    "        self._ano_nascimento = ano_nascimento\n",
    "\n",
    "    @property\n",
    "    def idade(self):\n",
    "        _ano_atual = 2022\n",
    "        return _ano_atual - self._ano_nascimento\n",
    "\n",
    "\n",
    "pessoa = Pessoa(\"Guilherme\", 1994)\n",
    "print(f\"Nome: {pessoa.nome} \\tIdade: {pessoa.idade}\")\n",
    "\n",
    "#O property é uma ideia para quando necessário atribuir uma regra de negócio ou algum ajuste, caso não tenha necessidade\n",
    "#o orientado é usar o atributo normalmente!\n",
    "\n",
    "#No exemplo a idade precisa de um ajuste, já nome não e não tem nenhum empecilho para usar ou modificar ele, portanto\n",
    "#não há motivos para usar o property nesse caso."
   ]
  },
  {
   "cell_type": "code",
   "execution_count": null,
   "metadata": {},
   "outputs": [],
   "source": []
  },
  {
   "cell_type": "code",
   "execution_count": null,
   "metadata": {},
   "outputs": [],
   "source": []
  }
 ],
 "metadata": {
  "kernelspec": {
   "display_name": "Python 3",
   "language": "python",
   "name": "python3"
  },
  "language_info": {
   "codemirror_mode": {
    "name": "ipython",
    "version": 3
   },
   "file_extension": ".py",
   "mimetype": "text/x-python",
   "name": "python",
   "nbconvert_exporter": "python",
   "pygments_lexer": "ipython3",
   "version": "3.10.7"
  },
  "orig_nbformat": 4,
  "vscode": {
   "interpreter": {
    "hash": "909775f4c1c1337c10dd26386ad7fdd8e68c24cfe611dcacc1a198b9e09c3e1f"
   }
  }
 },
 "nbformat": 4,
 "nbformat_minor": 2
}
