{
 "cells": [
  {
   "cell_type": "code",
   "execution_count": 26,
   "metadata": {},
   "outputs": [],
   "source": [
    "#Desafio 1\n",
    "letra = input().upper()\n",
    "\n",
    "alfabeto = [\"A\", \"B\", \"C\", \"D\", \"E\", \"F\", \"G\", \"H\", \"I\", \"J\", \"K\", \"L\", \"M\", \"N\", \"O\", \"P\", \"Q\", \"R\", \"S\", \"T\", \"U\", \"V\", \"W\",\"X\", \"Y\", \"Z\"]\n",
    "\n",
    "cont = 0\n",
    "\n",
    "for l in alfabeto:\n",
    "    cont += 1\n",
    "    if letra == l:\n",
    "        print(cont)\n"
   ]
  },
  {
   "cell_type": "code",
   "execution_count": null,
   "metadata": {},
   "outputs": [],
   "source": [
    "#Desafio 2\n",
    "\n",
    "papagaio = {\n",
    "    \"esquerda\": \"ingles\",\n",
    "    \"direita\": \"frances\",\n",
    "    \"nenhuma\": \"portugues\",\n",
    "    \"ambas\": \"caiu\"\n",
    "}\n",
    "\n",
    "\n",
    "while True: \n",
    "    try: \n",
    "        entrada = input().lower()\n",
    "        print(papagaio[entrada])\n",
    "    except EOFError: \n",
    "        break"
   ]
  },
  {
   "cell_type": "code",
   "execution_count": null,
   "metadata": {},
   "outputs": [],
   "source": [
    "#Desafio 3\n",
    "\n",
    "aumento = {\n",
    "    600.00: 17,\n",
    "    900.00: 13,\n",
    "    1500.00: 12,\n",
    "    2000.00: 10,\n",
    "    2000.01: 5\n",
    "}\n",
    "\n",
    "salario = float(input())\n",
    "\n",
    "\n",
    "for chave in aumento.keys():\n",
    "    if salario <= float(chave):\n",
    "        percentual = aumento[chave]\n",
    "        break\n",
    "    elif salario >= float(chave):\n",
    "        percentual = 5\n",
    "\n",
    "ganho = salario*(percentual/100)\n",
    "novo_salario = salario + ganho\n",
    "\n",
    "print(f\"Novo salario: {novo_salario:.2f}\")\n",
    "print(f\"Reajuste ganho: {ganho:.2f}\")\n",
    "print(f\"Em percentual: {percentual} %\")\n",
    "\n"
   ]
  }
 ],
 "metadata": {
  "kernelspec": {
   "display_name": "Python 3",
   "language": "python",
   "name": "python3"
  },
  "language_info": {
   "codemirror_mode": {
    "name": "ipython",
    "version": 3
   },
   "file_extension": ".py",
   "mimetype": "text/x-python",
   "name": "python",
   "nbconvert_exporter": "python",
   "pygments_lexer": "ipython3",
   "version": "3.10.7 (tags/v3.10.7:6cc6b13, Sep  5 2022, 14:08:36) [MSC v.1933 64 bit (AMD64)]"
  },
  "orig_nbformat": 4,
  "vscode": {
   "interpreter": {
    "hash": "8a5edab282632443219e051e4ade2d1d5bbc671c781051bf1437897cbdfea0f1"
   }
  }
 },
 "nbformat": 4,
 "nbformat_minor": 2
}
