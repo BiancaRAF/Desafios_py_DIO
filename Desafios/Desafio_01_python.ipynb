{
 "cells": [
  {
   "cell_type": "code",
   "execution_count": null,
   "metadata": {},
   "outputs": [],
   "source": [
    "#Desafio 01\n",
    "\n",
    "entrada = input().split() #100 2 2\n",
    "\n",
    "distancia = int(entrada[0])\n",
    "diametro1 = int(entrada[1])\n",
    "diametro2 = int(entrada[2])\n",
    "\n",
    "soma_diametro = diametro1 + diametro2\n",
    "\n",
    "ICM = distancia/soma_diametro\n",
    "\n",
    "print(f'{ICM:.2f}')"
   ]
  },
  {
   "cell_type": "code",
   "execution_count": null,
   "metadata": {},
   "outputs": [],
   "source": [
    "#Desafio 02\n",
    "\n",
    "valores = input().split()\n",
    "\n",
    "consumo = int(valores[0])\n",
    "participantes = int(valores[1])\n",
    "\n",
    "media = consumo/participantes\n",
    "\n",
    "print(f'{media:.2f}')"
   ]
  },
  {
   "cell_type": "code",
   "execution_count": null,
   "metadata": {},
   "outputs": [],
   "source": [
    "#Desafio 03\n",
    "\n",
    "valores = input().split()\n",
    "\n",
    "consumo_medio = 12\n",
    "\n",
    "tempo_gasto = int(valores[0])\n",
    "velocidade_media = int(valores[1])\n",
    "\n",
    "distancia = tempo_gasto*velocidade_media\n",
    "\n",
    "qtd_litros = distancia/consumo_medio\n",
    "\n",
    "print(f'{qtd_litros:.3f}')"
   ]
  }
 ],
 "metadata": {
  "kernelspec": {
   "display_name": "Python 3",
   "language": "python",
   "name": "python3"
  },
  "language_info": {
   "name": "python",
   "version": "3.10.7 (tags/v3.10.7:6cc6b13, Sep  5 2022, 14:08:36) [MSC v.1933 64 bit (AMD64)]"
  },
  "orig_nbformat": 4,
  "vscode": {
   "interpreter": {
    "hash": "8a5edab282632443219e051e4ade2d1d5bbc671c781051bf1437897cbdfea0f1"
   }
  }
 },
 "nbformat": 4,
 "nbformat_minor": 2
}
